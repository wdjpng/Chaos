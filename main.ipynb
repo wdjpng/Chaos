{
 "cells": [
  {
   "cell_type": "code",
   "execution_count": null,
   "metadata": {},
   "outputs": [],
   "source": [
    "from ipywidgets import interact, interactive, fixed, interact_manual\n",
    "import ipywidgets as widgets\n",
    "\n",
    "import matplotlib.pyplot as plt\n",
    "\n",
    "import numpy as np\n",
    "\n",
    "resolution = 50\n",
    "x = np.arange(0, resolution,1).tolist()\n",
    "y = [None] * resolution\n",
    "k = 10\n",
    "    \n",
    "def iterative(r):\n",
    "    y[0]=1\n",
    "    for t in range(1, resolution):\n",
    "        y[t]=r*y[t-1]*(1.0-y[t-1]/k)\n",
    "        \n",
    "def plot_func(r):\n",
    "    iterative(r)\n",
    "    plt.plot(x, y)\n",
    "\n",
    "interact(plot_func, r = widgets.FloatSlider(value=3.1,\n",
    "                                               min=2,\n",
    "                                               max=4.0,\n",
    "                                               step=0.1))"
   ]
  }
 ],
 "metadata": {
  "kernelspec": {
   "display_name": "Python 3",
   "language": "python",
   "name": "python3"
  },
  "language_info": {
   "codemirror_mode": {
    "name": "ipython",
    "version": 3
   },
   "file_extension": ".py",
   "mimetype": "text/x-python",
   "name": "python",
   "nbconvert_exporter": "python",
   "pygments_lexer": "ipython3",
   "version": "3.8.6"
  }
 },
 "nbformat": 4,
 "nbformat_minor": 4
}
